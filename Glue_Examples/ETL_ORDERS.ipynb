{
	"metadata": {
		"kernelspec": {
			"name": "glue_pyspark",
			"display_name": "Glue PySpark",
			"language": "python"
		},
		"language_info": {
			"name": "Python_Glue_Session",
			"mimetype": "text/x-python",
			"codemirror_mode": {
				"name": "python",
				"version": 3
			},
			"pygments_lexer": "python3",
			"file_extension": ".py"
		}
	},
	"nbformat_minor": 4,
	"nbformat": 4,
	"cells": [
		{
			"cell_type": "markdown",
			"source": "# AWS Glue Studio Notebook\n##### You are now running a AWS Glue Studio notebook; To start using your notebook you need to start an AWS Glue Interactive Session.\n",
			"metadata": {
				"editable": true,
				"trusted": true
			}
		},
		{
			"cell_type": "markdown",
			"source": "#### Optional: Run this cell to see available notebook commands (\"magics\").\n",
			"metadata": {
				"editable": true,
				"trusted": true
			}
		},
		{
			"cell_type": "code",
			"source": "%help",
			"metadata": {
				"trusted": true,
				"editable": true
			},
			"execution_count": 14,
			"outputs": [
				{
					"output_type": "display_data",
					"data": {
						"text/markdown": "\n# Available Magic Commands\n\n## Sessions Magic\n\n----\n    %help                             Return a list of descriptions and input types for all magic commands. \n    %profile            String        Specify a profile in your aws configuration to use as the credentials provider.\n    %region             String        Specify the AWS region in which to initialize a session. \n                                      Default from ~/.aws/config on Linux or macOS, \n                                      or C:\\Users\\ USERNAME \\.aws\\config\" on Windows.\n    %idle_timeout       Int           The number of minutes of inactivity after which a session will timeout. \n                                      Default: 2880 minutes (48 hours).\n    %session_id_prefix  String        Define a String that will precede all session IDs in the format \n                                      [session_id_prefix]-[session_id]. If a session ID is not provided,\n                                      a random UUID will be generated.\n    %status                           Returns the status of the current Glue session including its duration, \n                                      configuration and executing user / role.\n    %session_id                       Returns the session ID for the running session. \n    %list_sessions                    Lists all currently running sessions by ID.\n    %stop_session                     Stops the current session.\n    %glue_version       String        The version of Glue to be used by this session. \n                                      Currently, the only valid options are 2.0, 3.0 and 4.0. \n                                      Default: 2.0.\n----\n\n## Selecting Job Types\n\n----\n    %streaming          String        Sets the session type to Glue Streaming.\n    %etl                String        Sets the session type to Glue ETL.\n    %glue_ray           String        Sets the session type to Glue Ray.\n----\n\n## Glue Config Magic \n*(common across all job types)*\n\n----\n\n    %%configure         Dictionary    A json-formatted dictionary consisting of all configuration parameters for \n                                      a session. Each parameter can be specified here or through individual magics.\n    %iam_role           String        Specify an IAM role ARN to execute your session with.\n                                      Default from ~/.aws/config on Linux or macOS, \n                                      or C:\\Users\\%USERNAME%\\.aws\\config` on Windows.\n    %number_of_workers  int           The number of workers of a defined worker_type that are allocated \n                                      when a session runs.\n                                      Default: 5.\n    %additional_python_modules  List  Comma separated list of additional Python modules to include in your cluster \n                                      (can be from Pypi or S3).\n    %%tags        Dictionary          Specify a json-formatted dictionary consisting of tags to use in the session.\n----\n\n                                      \n## Magic for Spark Jobs (ETL & Streaming)\n\n----\n    %worker_type        String        Set the type of instances the session will use as workers. \n                                      ETL and Streaming support G.1X, G.2X, G.4X and G.8X. \n                                      Default: G.1X.\n    %connections        List          Specify a comma separated list of connections to use in the session.\n    %extra_py_files     List          Comma separated list of additional Python files From S3.\n    %extra_jars         List          Comma separated list of additional Jars to include in the cluster.\n    %spark_conf         String        Specify custom spark configurations for your session. \n                                      E.g. %spark_conf spark.serializer=org.apache.spark.serializer.KryoSerializer\n----\n                                      \n## Magic for Ray Job\n\n----\n    %min_workers        Int           The minimum number of workers that are allocated to a Ray job. \n                                      Default: 1.\n    %object_memory_head Int           The percentage of free memory on the instance head node after a warm start. \n                                      Minimum: 0. Maximum: 100.\n    %object_memory_worker Int         The percentage of free memory on the instance worker nodes after a warm start. \n                                      Minimum: 0. Maximum: 100.\n----\n\n## Action Magic\n\n----\n\n    %%sql               String        Run SQL code. All lines after the initial %%sql magic will be passed\n                                      as part of the SQL code.  \n----\n\n"
					},
					"metadata": {}
				}
			]
		},
		{
			"cell_type": "markdown",
			"source": "####  Run this cell to set up and start your interactive session.\n",
			"metadata": {
				"editable": true,
				"trusted": true
			}
		},
		{
			"cell_type": "code",
			"source": "!pip install openpyxl",
			"metadata": {
				"trusted": true,
				"tags": []
			},
			"execution_count": 2,
			"outputs": [
				{
					"name": "stdout",
					"text": "Welcome to the Glue Interactive Sessions Kernel\nFor more information on available magic commands, please type %help in any new cell.\n\nPlease view our Getting Started page to access the most up-to-date information on the Interactive Sessions kernel: https://docs.aws.amazon.com/glue/latest/dg/interactive-sessions.html\nInstalled kernel version: 0.38.1 \nDefaulting to user installation because normal site-packages is not writeable\nCollecting openpyxl\n  Downloading openpyxl-3.1.2-py2.py3-none-any.whl (249 kB)\n\u001b[2K     \u001b[90m━━━━━━━━━━━━━━━━━━━━━━━━━━━━━━━━━━━━━━━\u001b[0m \u001b[32m250.0/250.0 kB\u001b[0m \u001b[31m6.7 MB/s\u001b[0m eta \u001b[36m0:00:00\u001b[0m00:01\u001b[0m\n\u001b[?25hCollecting et-xmlfile (from openpyxl)\n  Downloading et_xmlfile-1.1.0-py3-none-any.whl (4.7 kB)\nInstalling collected packages: et-xmlfile, openpyxl\nSuccessfully installed et-xmlfile-1.1.0 openpyxl-3.1.2\n\n\u001b[1m[\u001b[0m\u001b[34;49mnotice\u001b[0m\u001b[1;39;49m]\u001b[0m\u001b[39;49m A new release of pip is available: \u001b[0m\u001b[31;49m23.1.2\u001b[0m\u001b[39;49m -> \u001b[0m\u001b[32;49m23.2.1\u001b[0m\n\u001b[1m[\u001b[0m\u001b[34;49mnotice\u001b[0m\u001b[1;39;49m]\u001b[0m\u001b[39;49m To update, run: \u001b[0m\u001b[32;49mpip install --upgrade pip\u001b[0m\n",
					"output_type": "stream"
				}
			]
		},
		{
			"cell_type": "code",
			"source": "%idle_timeout 2880\n%glue_version 3.0\n%worker_type G.1X\n%number_of_workers 3\n%additional_python_modules openpyxl,loguru",
			"metadata": {
				"trusted": true,
				"editable": true
			},
			"execution_count": 20,
			"outputs": [
				{
					"name": "stderr",
					"text": "You are already connected to a glueetl session 73f7459c-05a3-4172-bcab-7153aafb9c88.\n\nNo change will be made to the current session that is set as glueetl. The session configuration change will apply to newly created sessions.\n",
					"output_type": "stream"
				},
				{
					"name": "stdout",
					"text": "Current idle_timeout is 2880 minutes.\nidle_timeout has been set to 2880 minutes.\n",
					"output_type": "stream"
				},
				{
					"name": "stderr",
					"text": "You are already connected to a glueetl session 73f7459c-05a3-4172-bcab-7153aafb9c88.\n\nNo change will be made to the current session that is set as glueetl. The session configuration change will apply to newly created sessions.\n",
					"output_type": "stream"
				},
				{
					"name": "stdout",
					"text": "Setting Glue version to: 3.0\n",
					"output_type": "stream"
				},
				{
					"name": "stderr",
					"text": "You are already connected to a glueetl session 73f7459c-05a3-4172-bcab-7153aafb9c88.\n\nNo change will be made to the current session that is set as glueetl. The session configuration change will apply to newly created sessions.\n",
					"output_type": "stream"
				},
				{
					"name": "stdout",
					"text": "Previous worker type: G.1X\nSetting new worker type to: G.1X\n",
					"output_type": "stream"
				},
				{
					"name": "stderr",
					"text": "You are already connected to a glueetl session 73f7459c-05a3-4172-bcab-7153aafb9c88.\n\nNo change will be made to the current session that is set as glueetl. The session configuration change will apply to newly created sessions.\n",
					"output_type": "stream"
				},
				{
					"name": "stdout",
					"text": "Previous number of workers: 3\nSetting new number of workers to: 3\n",
					"output_type": "stream"
				},
				{
					"name": "stderr",
					"text": "You are already connected to a glueetl session 73f7459c-05a3-4172-bcab-7153aafb9c88.\n\nNo change will be made to the current session that is set as glueetl. The session configuration change will apply to newly created sessions.\n",
					"output_type": "stream"
				},
				{
					"name": "stdout",
					"text": "Additional python modules to be included:\nopenpyxl\nloguru\n",
					"output_type": "stream"
				}
			]
		},
		{
			"cell_type": "code",
			"source": "import sys\nfrom pathlib import Path\n\nimport pandas as pd\nfrom awsglue.transforms import *\nfrom awsglue.utils import getResolvedOptions\nfrom pyspark.context import SparkContext\nfrom awsglue.context import GlueContext\nfrom awsglue.job import Job\nfrom pyspark.sql import DataFrame as SparkDataFrame",
			"metadata": {},
			"execution_count": null,
			"outputs": []
		},
		{
			"cell_type": "code",
			"source": "!pip install openpyxl",
			"metadata": {
				"trusted": true,
				"tags": []
			},
			"execution_count": 12,
			"outputs": [
				{
					"name": "stdout",
					"text": "Defaulting to user installation because normal site-packages is not writeable\nRequirement already satisfied: openpyxl in /home/jupyter-user/.local/lib/python3.9/site-packages (3.1.2)\nRequirement already satisfied: et-xmlfile in /home/jupyter-user/.local/lib/python3.9/site-packages (from openpyxl) (1.1.0)\n\n\u001b[1m[\u001b[0m\u001b[34;49mnotice\u001b[0m\u001b[1;39;49m]\u001b[0m\u001b[39;49m A new release of pip is available: \u001b[0m\u001b[31;49m23.1.2\u001b[0m\u001b[39;49m -> \u001b[0m\u001b[32;49m23.2.1\u001b[0m\n\u001b[1m[\u001b[0m\u001b[34;49mnotice\u001b[0m\u001b[1;39;49m]\u001b[0m\u001b[39;49m To update, run: \u001b[0m\u001b[32;49mpip install --upgrade pip\u001b[0m\n",
					"output_type": "stream"
				}
			]
		},
		{
			"cell_type": "code",
			"source": "sc = SparkContext.getOrCreate()\nglueContext = GlueContext(sc)\nspark = glueContext.spark_session\njob = Job(glueContext)",
			"metadata": {
				"trusted": true,
				"tags": []
			},
			"execution_count": 2,
			"outputs": [
				{
					"name": "stdout",
					"text": "\n",
					"output_type": "stream"
				}
			]
		},
		{
			"cell_type": "markdown",
			"source": "## FUNÇÕES GLOBAIS",
			"metadata": {}
		},
		{
			"cell_type": "code",
			"source": "def convert_dataframe(dataframe, target_framework, spark_session=None):\n    \"\"\"\n    Converte entre pandas DataFrame, PySpark DataFrame e AWS Glue DynamicFrame.\n\n    :param dataframe: DataFrame a ser convertido.\n    :param target_framework: O tipo de estrutura de dados de destino (\"pandas\", \"spark\" ou \"dynamicframe\").\n    :param spark_session: Sessão Spark (usado apenas se target_framework for \"spark\").\n    :return: DataFrame ou DynamicFrame, conforme o tipo de estrutura de destino especificado.\n    \"\"\"\n\n    if target_framework == \"pandas\":\n        if isinstance(dataframe, SparkDataFrame):\n            return dataframe.toPandas()\n        elif isinstance(dataframe, DynamicFrame):\n            return dataframe.toDF().toPandas()  # Convertendo DynamicFrame para Spark DataFrame e depois para pandas\n        else:\n            return dataframe\n\n    elif target_framework == \"spark\":\n        if isinstance(dataframe, pd.DataFrame):\n            return spark_session.createDataFrame(dataframe)\n        elif isinstance(dataframe, DynamicFrame):\n            return dataframe.toDF()  # Convertendo DynamicFrame diretamente para Spark DataFrame\n        else:\n            return dataframe\n\n    elif target_framework == \"dynamicframe\":\n        if isinstance(dataframe, pd.DataFrame):\n            spark_dataframe = spark_session.createDataFrame(dataframe)\n            return DynamicFrame.fromDF(spark_dataframe, glueContext, \"dynamicframe\")\n        elif isinstance(dataframe, SparkDataFrame):\n            return DynamicFrame.fromDF(dataframe, glueContext, \"dynamicframe\")\n        else:\n            return dataframe\n\n    else:\n        raise ValueError(\"Invalid target_framework.\")",
			"metadata": {
				"trusted": true,
				"tags": []
			},
			"execution_count": 3,
			"outputs": [
				{
					"name": "stdout",
					"text": "\n",
					"output_type": "stream"
				}
			]
		},
		{
			"cell_type": "code",
			"source": "def read_generic_data(file_path, format_type=None, sheet_name=None, separator=None, spark=None):\n    \"\"\"\n    Lê dados de vários formatos usando PySpark ou pandas.\n\n    :param file_path: Caminho do arquivo.\n    :param format_type: Tipo de formato (\"csv\", \"parquet\", \"json\", \"excel\").\n    :param sheet_name: Nome da planilha (apenas para format_type=\"excel\").\n    :param separator: Separador de colunas (apenas para format_type=\"csv\").\n    :param spark: Instância do SparkSession (opcional).\n    :return: DataFrame (Spark DataFrame ou pandas DataFrame, dependendo do caso).\n    \"\"\"\n\n    if format_type is None:\n        format_type = Path(file_path_csv).suffix[1:].lower()\n\n    if format_type in [\"csv\", \"parquet\", \"json\"]:\n        if spark:\n            if format_type == \"csv\":\n                if separator is None:\n                    separator = \",\"\n                return spark.read.csv(file_path, header=True, inferSchema=True, sep=separator)\n            elif format_type == \"parquet\":\n                return spark.read.parquet(file_path)\n            elif format_type == \"json\":\n                return spark.read.json(file_path)\n        else:\n            if format_type == \"csv\":\n                if separator is None:\n                    separator = \",\"\n                return pd.read_csv(file_path, sep=separator)\n            elif format_type == \"parquet\":\n                return pd.read_parquet(file_path)\n            elif format_type == \"json\":\n                return pd.read_json(file_path)\n    elif format_type in [\"excel\", \"xlsx\"]:\n        if sheet_name is None:\n            sheet_name = 0\n            \n        # READING EXCEL IN PANDAS DATAFRAME\n        df_pandas = pd.read_excel(file_path, \n                                  sheet_name=sheet_name, \n                                  engine=\"openpyxl\")\n        \n        if spark:\n            convert_dataframe(dataframe=df_pandas, \n                              target_framework=\"spark\", \n                              spark_session=spark)\n        \n    else:\n        raise ValueError(\"Format not supported.\")",
			"metadata": {
				"trusted": true,
				"tags": []
			},
			"execution_count": 4,
			"outputs": [
				{
					"name": "stdout",
					"text": "\n",
					"output_type": "stream"
				}
			]
		},
		{
			"cell_type": "markdown",
			"source": "## DADOS EM FORMATO CSV",
			"metadata": {}
		},
		{
			"cell_type": "code",
			"source": "file_path_csv = \"s3://etl-customer-orders/data/raw_data/orders.csv\"",
			"metadata": {
				"trusted": true,
				"tags": []
			},
			"execution_count": 12,
			"outputs": [
				{
					"name": "stdout",
					"text": "\n",
					"output_type": "stream"
				}
			]
		},
		{
			"cell_type": "code",
			"source": "df_csv = read_generic_data(file_path=file_path_csv, \n                           format_type=\"csv\", \n                           separator=\";\", \n                           spark=spark)",
			"metadata": {
				"trusted": true,
				"tags": []
			},
			"execution_count": 16,
			"outputs": [
				{
					"name": "stdout",
					"text": "\n",
					"output_type": "stream"
				}
			]
		},
		{
			"cell_type": "code",
			"source": "df_csv.show()",
			"metadata": {
				"trusted": true,
				"tags": []
			},
			"execution_count": 17,
			"outputs": [
				{
					"name": "stdout",
					"text": "+-------+----------+----------+-------------------+-------------------+-------------------+-------+-------+--------------------+--------------------+--------------+----------+--------------+-----------+\n|OrderID|CustomerID|EmployeeID|          OrderDate|       RequiredDate|        ShippedDate|ShipVia|Freight|            ShipName|         ShipAddress|      ShipCity|ShipRegion|ShipPostalCode|ShipCountry|\n+-------+----------+----------+-------------------+-------------------+-------------------+-------+-------+--------------------+--------------------+--------------+----------+--------------+-----------+\n|  10248|     VINET|         5|2020-07-04 00:00:00|2020-08-01 00:00:00|2020-07-16 00:00:00|      3|  32.38|Vins et alcools C...|  59 rue de l-Abbaye|         Reims|      null|         51100|     France|\n|  10249|     TOMSP|         6|2020-07-05 00:00:00|2020-08-16 00:00:00|2020-07-10 00:00:00|      1|  11.61|   Toms Spezialitten|       Luisenstr. 48|        Mnster|      null|         44087|    Germany|\n|  10250|     HANAR|         4|2020-07-08 00:00:00|2020-08-05 00:00:00|2020-07-12 00:00:00|      2|  65.83|       Hanari Carnes|      Rua do Pao, 67|Rio de Janeiro|        RJ|     05454-876|     Brazil|\n|  10251|     VICTE|         3|2020-07-08 00:00:00|2020-08-05 00:00:00|2020-07-15 00:00:00|      1|  41.34|Victuailles en stock|  2, rue du Commerce|          Lyon|      null|         69004|     France|\n|  10252|     SUPRD|         4|2020-07-09 00:00:00|2020-08-06 00:00:00|2020-07-11 00:00:00|      2|   51.3|      Suprmes dlices|Boulevard Tirou, 255|     Charleroi|      null|        B-6000|    Belgium|\n|  10253|     HANAR|         3|2020-07-10 00:00:00|2020-07-24 00:00:00|2020-07-16 00:00:00|      2|  58.17|       Hanari Carnes|      Rua do Pao, 67|Rio de Janeiro|        RJ|     05454-876|     Brazil|\n|  10254|     CHOPS|         5|2020-07-11 00:00:00|2020-08-08 00:00:00|2020-07-23 00:00:00|      2|  22.98|   Chop-suey Chinese|        Hauptstr. 31|          Bern|      null|          3012|Switzerland|\n|  10255|     RICSU|         9|2020-07-12 00:00:00|2020-08-09 00:00:00|2020-07-15 00:00:00|      3| 148.33|  Richter Supermarkt|         Starenweg 5|         Genve|      null|          1204|Switzerland|\n|  10256|     WELLI|         3|2020-07-15 00:00:00|2020-08-12 00:00:00|2020-07-17 00:00:00|      2|  13.97|Wellington Import...|  Rua do Mercado, 12|       Resende|        SP|     08737-363|     Brazil|\n|  10257|     HILAA|         4|2020-07-16 00:00:00|2020-08-13 00:00:00|2020-07-22 00:00:00|      3|  81.91|    HILARION-Abastos|Carrera 22 con Av...|  San Cristbal|    Tchira|          5022|  Venezuela|\n|  10258|     ERNSH|         1|2020-07-17 00:00:00|2020-08-14 00:00:00|2020-07-23 00:00:00|      1| 140.51|        Ernst Handel|        Kirchgasse 6|          Graz|      null|          8010|    Austria|\n|  10259|     CENTC|         4|2020-07-18 00:00:00|2020-08-15 00:00:00|2020-07-25 00:00:00|      3|   3.25|Centro comercial ...|Sierras de Granad...|    Mxico D.F.|      null|          5022|     Mexico|\n|  10260|     OTTIK|         4|2020-07-19 00:00:00|2020-08-16 00:00:00|2020-07-29 00:00:00|      1|  55.09|   Ottilies Kseladen|  Mehrheimerstr. 369|           Kln|      null|         50739|    Germany|\n|  10261|     QUEDE|         4|2020-07-19 00:00:00|2020-08-16 00:00:00|2020-07-30 00:00:00|      2|   3.05|          Que Delcia|Rua da Panificado...|Rio de Janeiro|        RJ|     02389-673|     Brazil|\n|  10262|     RATTC|         8|2020-07-22 00:00:00|2020-08-19 00:00:00|2020-07-25 00:00:00|      3|  48.29|Rattlesnake Canyo...|     2817 Milton Dr.|   Albuquerque|        NM|         87110|        USA|\n|  10263|     ERNSH|         9|2020-07-23 00:00:00|2020-08-20 00:00:00|2020-07-31 00:00:00|      3| 146.06|        Ernst Handel|        Kirchgasse 6|          Graz|      null|          8010|    Austria|\n|  10264|     FOLKO|         6|2020-07-24 00:00:00|2020-08-21 00:00:00|2020-08-23 00:00:00|      3|   3.67|       Folk och f HB|         kergatan 24|         Brcke|      null|      S-844 67|     Sweden|\n|  10265|     BLONP|         2|2020-07-25 00:00:00|2020-08-22 00:00:00|2020-08-12 00:00:00|      1|  55.28| Blondel pre et fils|     24, place Klber|    Strasbourg|      null|         67000|     France|\n|  10266|     WARTH|         3|2020-07-26 00:00:00|2020-09-06 00:00:00|2020-07-31 00:00:00|      3|  25.73|      Wartian Herkku|         Torikatu 38|          Oulu|      null|         90110|    Finland|\n|  10267|     FRANK|         4|2020-07-29 00:00:00|2020-08-26 00:00:00|2020-08-06 00:00:00|      1| 208.58|      Frankenversand|   Berliner Platz 43|        Mnchen|      null|         80805|    Germany|\n+-------+----------+----------+-------------------+-------------------+-------------------+-------+-------+--------------------+--------------------+--------------+----------+--------------+-----------+\nonly showing top 20 rows\n",
					"output_type": "stream"
				}
			]
		},
		{
			"cell_type": "markdown",
			"source": "## DADOS EM FORMATO EXCEL",
			"metadata": {}
		},
		{
			"cell_type": "code",
			"source": "file_path_excel = \"s3://etl-customer-orders/data/raw_data/BASE_COM_CEP.xlsx\"",
			"metadata": {
				"trusted": true,
				"tags": []
			},
			"execution_count": 18,
			"outputs": [
				{
					"name": "stdout",
					"text": "\n",
					"output_type": "stream"
				}
			]
		},
		{
			"cell_type": "code",
			"source": "df_excel = read_generic_data(file_path=file_path_excel, \n                             spark=spark)",
			"metadata": {
				"trusted": true,
				"tags": []
			},
			"execution_count": 21,
			"outputs": [
				{
					"name": "stdout",
					"text": "ImportError: Missing optional dependency 'openpyxl'.  Use pip or conda to install openpyxl.\n",
					"output_type": "stream"
				}
			]
		},
		{
			"cell_type": "code",
			"source": "df_excel.show()",
			"metadata": {
				"trusted": true,
				"tags": []
			},
			"execution_count": 22,
			"outputs": [
				{
					"name": "stdout",
					"text": "+-------+----------+----------+-------------------+-------------------+-------------------+-------+-------+--------------------+--------------------+--------------+----------+--------------+-----------+\n|OrderID|CustomerID|EmployeeID|          OrderDate|       RequiredDate|        ShippedDate|ShipVia|Freight|            ShipName|         ShipAddress|      ShipCity|ShipRegion|ShipPostalCode|ShipCountry|\n+-------+----------+----------+-------------------+-------------------+-------------------+-------+-------+--------------------+--------------------+--------------+----------+--------------+-----------+\n|  10248|     VINET|         5|2020-07-04 00:00:00|2020-08-01 00:00:00|2020-07-16 00:00:00|      3|  32.38|Vins et alcools C...|  59 rue de l-Abbaye|         Reims|      null|         51100|     France|\n|  10249|     TOMSP|         6|2020-07-05 00:00:00|2020-08-16 00:00:00|2020-07-10 00:00:00|      1|  11.61|   Toms Spezialitten|       Luisenstr. 48|        Mnster|      null|         44087|    Germany|\n|  10250|     HANAR|         4|2020-07-08 00:00:00|2020-08-05 00:00:00|2020-07-12 00:00:00|      2|  65.83|       Hanari Carnes|      Rua do Pao, 67|Rio de Janeiro|        RJ|     05454-876|     Brazil|\n|  10251|     VICTE|         3|2020-07-08 00:00:00|2020-08-05 00:00:00|2020-07-15 00:00:00|      1|  41.34|Victuailles en stock|  2, rue du Commerce|          Lyon|      null|         69004|     France|\n|  10252|     SUPRD|         4|2020-07-09 00:00:00|2020-08-06 00:00:00|2020-07-11 00:00:00|      2|   51.3|      Suprmes dlices|Boulevard Tirou, 255|     Charleroi|      null|        B-6000|    Belgium|\n|  10253|     HANAR|         3|2020-07-10 00:00:00|2020-07-24 00:00:00|2020-07-16 00:00:00|      2|  58.17|       Hanari Carnes|      Rua do Pao, 67|Rio de Janeiro|        RJ|     05454-876|     Brazil|\n|  10254|     CHOPS|         5|2020-07-11 00:00:00|2020-08-08 00:00:00|2020-07-23 00:00:00|      2|  22.98|   Chop-suey Chinese|        Hauptstr. 31|          Bern|      null|          3012|Switzerland|\n|  10255|     RICSU|         9|2020-07-12 00:00:00|2020-08-09 00:00:00|2020-07-15 00:00:00|      3| 148.33|  Richter Supermarkt|         Starenweg 5|         Genve|      null|          1204|Switzerland|\n|  10256|     WELLI|         3|2020-07-15 00:00:00|2020-08-12 00:00:00|2020-07-17 00:00:00|      2|  13.97|Wellington Import...|  Rua do Mercado, 12|       Resende|        SP|     08737-363|     Brazil|\n|  10257|     HILAA|         4|2020-07-16 00:00:00|2020-08-13 00:00:00|2020-07-22 00:00:00|      3|  81.91|    HILARION-Abastos|Carrera 22 con Av...|  San Cristbal|    Tchira|          5022|  Venezuela|\n|  10258|     ERNSH|         1|2020-07-17 00:00:00|2020-08-14 00:00:00|2020-07-23 00:00:00|      1| 140.51|        Ernst Handel|        Kirchgasse 6|          Graz|      null|          8010|    Austria|\n|  10259|     CENTC|         4|2020-07-18 00:00:00|2020-08-15 00:00:00|2020-07-25 00:00:00|      3|   3.25|Centro comercial ...|Sierras de Granad...|    Mxico D.F.|      null|          5022|     Mexico|\n|  10260|     OTTIK|         4|2020-07-19 00:00:00|2020-08-16 00:00:00|2020-07-29 00:00:00|      1|  55.09|   Ottilies Kseladen|  Mehrheimerstr. 369|           Kln|      null|         50739|    Germany|\n|  10261|     QUEDE|         4|2020-07-19 00:00:00|2020-08-16 00:00:00|2020-07-30 00:00:00|      2|   3.05|          Que Delcia|Rua da Panificado...|Rio de Janeiro|        RJ|     02389-673|     Brazil|\n|  10262|     RATTC|         8|2020-07-22 00:00:00|2020-08-19 00:00:00|2020-07-25 00:00:00|      3|  48.29|Rattlesnake Canyo...|     2817 Milton Dr.|   Albuquerque|        NM|         87110|        USA|\n|  10263|     ERNSH|         9|2020-07-23 00:00:00|2020-08-20 00:00:00|2020-07-31 00:00:00|      3| 146.06|        Ernst Handel|        Kirchgasse 6|          Graz|      null|          8010|    Austria|\n|  10264|     FOLKO|         6|2020-07-24 00:00:00|2020-08-21 00:00:00|2020-08-23 00:00:00|      3|   3.67|       Folk och f HB|         kergatan 24|         Brcke|      null|      S-844 67|     Sweden|\n|  10265|     BLONP|         2|2020-07-25 00:00:00|2020-08-22 00:00:00|2020-08-12 00:00:00|      1|  55.28| Blondel pre et fils|     24, place Klber|    Strasbourg|      null|         67000|     France|\n|  10266|     WARTH|         3|2020-07-26 00:00:00|2020-09-06 00:00:00|2020-07-31 00:00:00|      3|  25.73|      Wartian Herkku|         Torikatu 38|          Oulu|      null|         90110|    Finland|\n|  10267|     FRANK|         4|2020-07-29 00:00:00|2020-08-26 00:00:00|2020-08-06 00:00:00|      1| 208.58|      Frankenversand|   Berliner Platz 43|        Mnchen|      null|         80805|    Germany|\n+-------+----------+----------+-------------------+-------------------+-------------------+-------+-------+--------------------+--------------------+--------------+----------+--------------+-----------+\nonly showing top 20 rows\n",
					"output_type": "stream"
				}
			]
		},
		{
			"cell_type": "code",
			"source": "type(df_excel)",
			"metadata": {},
			"execution_count": null,
			"outputs": []
		}
	]
}